{
 "cells": [
  {
   "cell_type": "markdown",
   "metadata": {},
   "source": [
    "# Funciones en Python"
   ]
  },
  {
   "cell_type": "code",
   "execution_count": 1,
   "metadata": {},
   "outputs": [
    {
     "data": {
      "text/plain": [
       "8"
      ]
     },
     "execution_count": 1,
     "metadata": {},
     "output_type": "execute_result"
    }
   ],
   "source": [
    "# funcion de x   f(x) = x+5   f(x=3) = 3+5 --> 8\n",
    "# def es definir una variable\n",
    "# return va traer mi resultado\n",
    "\n",
    "def f(x):\n",
    "    resultado = x+5\n",
    "    return resultado\n",
    "    print('x:', x)\n",
    "    print('resultado:', resultado)\n",
    "\n",
    "f(x=3)\n"
   ]
  },
  {
   "cell_type": "markdown",
   "metadata": {},
   "source": [
    "# Pseudo-codigo"
   ]
  },
  {
   "cell_type": "code",
   "execution_count": 2,
   "metadata": {},
   "outputs": [],
   "source": [
    "# obtener el valor de la suma de los numeros de una lista\n",
    "# obtener el valor minimo y el maximo\n",
    "# obtener la media y la desciacion estandar\n",
    "\n",
    "#calcular_valores(lista_numeros)\n",
    "#   suma           = calcular_suma(lista_numeros)\n",
    "#   media, dev_std = calcular_valores_centrales(lista_numeros)\n",
    "#   min_val, max_val = calcular_extremos(lista_numeros)\n",
    "#   return sum, media, dev_std, min_val, max_val"
   ]
  },
  {
   "cell_type": "code",
   "execution_count": 3,
   "metadata": {},
   "outputs": [],
   "source": [
    "from unittest import result\n",
    "import numpy as np\n",
    "\n",
    "def calcular_suma(lista_numeros):\n",
    "    resultado = np.sum(lista_numeros)\n",
    "\n",
    "    return resultado\n",
    "\n",
    "def calcular_valores_centrales(lista_numeros):\n",
    "    media = np.mean(lista_numeros)\n",
    "    dev_std = np.std(lista_numeros)\n",
    "   \n",
    "    return media, dev_std\n",
    "\n",
    "\n",
    "def calcular_extremos(lista_numeros):\n",
    "    min_val = np.min(lista_numeros)\n",
    "    max_val = np.max(lista_numeros)\n",
    "\n",
    "    return min_val, max_val\n",
    "\n",
    "def calcular_valores(lista_numeros):\n",
    "    suma = calcular_suma(lista_numeros)\n",
    "    media, dev_std = calcular_valores_centrales(lista_numeros)\n",
    "    min_val, max_val = calcular_extremos(lista_numeros)\n",
    "\n",
    "    return suma, media, dev_std, min_val, max_val\n",
    "\n",
    "    "
   ]
  },
  {
   "cell_type": "code",
   "execution_count": 4,
   "metadata": {},
   "outputs": [
    {
     "data": {
      "text/plain": [
       "(145, 14.5, 21.905478766737787, 1, 74)"
      ]
     },
     "execution_count": 4,
     "metadata": {},
     "output_type": "execute_result"
    }
   ],
   "source": [
    "lista_numeros = [1, 2, 3, 4, 5, 6, 74, 3, 34, 13]\n",
    "\n",
    "calcular_valores(lista_numeros)\n"
   ]
  },
  {
   "cell_type": "code",
   "execution_count": null,
   "metadata": {},
   "outputs": [],
   "source": []
  }
 ],
 "metadata": {
  "kernelspec": {
   "display_name": "Python 3.9.12 ('base')",
   "language": "python",
   "name": "python3"
  },
  "language_info": {
   "codemirror_mode": {
    "name": "ipython",
    "version": 3
   },
   "file_extension": ".py",
   "mimetype": "text/x-python",
   "name": "python",
   "nbconvert_exporter": "python",
   "pygments_lexer": "ipython3",
   "version": "3.9.12"
  },
  "orig_nbformat": 4,
  "vscode": {
   "interpreter": {
    "hash": "98b921049c439807c081d6616d9731da5920d3b6edca6190edeae5a80cc907f5"
   }
  }
 },
 "nbformat": 4,
 "nbformat_minor": 2
}
