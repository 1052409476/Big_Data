{
 "cells": [
  {
   "cell_type": "markdown",
   "metadata": {},
   "source": [
    "# Notebook inicial de EDA para llamadas 123"
   ]
  },
  {
   "cell_type": "markdown",
   "metadata": {},
   "source": []
  },
  {
   "cell_type": "code",
   "execution_count": 1,
   "metadata": {},
   "outputs": [],
   "source": [
    "# importar librerias de manipulacion\n",
    "import pandas as pd #Traer todo lo de la libreria\n",
    "\n",
    "import os\n",
    "from pathlib import Path #Solo traer una funcion de la libreria\n"
   ]
  },
  {
   "cell_type": "code",
   "execution_count": 2,
   "metadata": {},
   "outputs": [
    {
     "data": {
      "text/plain": [
       "WindowsPath('C:/Users/usuario/Desktop/DATOS BIGDATA/DATOS BIGDATA/notebooks')"
      ]
     },
     "execution_count": 2,
     "metadata": {},
     "output_type": "execute_result"
    }
   ],
   "source": [
    "Path('.').resolve()"
   ]
  },
  {
   "cell_type": "code",
   "execution_count": 3,
   "metadata": {},
   "outputs": [
    {
     "data": {
      "text/plain": [
       "'C:\\\\Users\\\\usuario\\\\Desktop\\\\DATOS BIGDATA\\\\DATOS BIGDATA\\\\data\\\\raw\\\\llamadas123_julio_2022.csv'"
      ]
     },
     "execution_count": 3,
     "metadata": {},
     "output_type": "execute_result"
    }
   ],
   "source": [
    "Path('.').resolve()\n",
    "root_dir=Path('.').resolve().parent\n",
    "root_dir\n",
    "filename ='llamadas123_julio_2022.csv'\n",
    "\n",
    "file_path = os.path.join(root_dir, 'data', 'raw',filename) #Ayuda a buscar archivos de interes\n",
    "file_path"
   ]
  },
  {
   "cell_type": "code",
   "execution_count": 4,
   "metadata": {},
   "outputs": [],
   "source": [
    "df = pd.read_csv(file_path,sep=';',encoding='latin-1') #, nrows=100"
   ]
  },
  {
   "cell_type": "code",
   "execution_count": 5,
   "metadata": {},
   "outputs": [
    {
     "data": {
      "text/html": [
       "<div>\n",
       "<style scoped>\n",
       "    .dataframe tbody tr th:only-of-type {\n",
       "        vertical-align: middle;\n",
       "    }\n",
       "\n",
       "    .dataframe tbody tr th {\n",
       "        vertical-align: top;\n",
       "    }\n",
       "\n",
       "    .dataframe thead th {\n",
       "        text-align: right;\n",
       "    }\n",
       "</style>\n",
       "<table border=\"1\" class=\"dataframe\">\n",
       "  <thead>\n",
       "    <tr style=\"text-align: right;\">\n",
       "      <th></th>\n",
       "      <th>NUMERO_INCIDENTE</th>\n",
       "      <th>FECHA_INICIO_DESPLAZAMIENTO_MOVIL</th>\n",
       "      <th>CODIGO_LOCALIDAD</th>\n",
       "      <th>LOCALIDAD</th>\n",
       "      <th>EDAD</th>\n",
       "      <th>UNIDAD</th>\n",
       "      <th>GENERO</th>\n",
       "      <th>RED</th>\n",
       "      <th>TIPO_INCIDENTE</th>\n",
       "      <th>PRIORIDAD</th>\n",
       "      <th>RECEPCION</th>\n",
       "    </tr>\n",
       "  </thead>\n",
       "  <tbody>\n",
       "    <tr>\n",
       "      <th>0</th>\n",
       "      <td>CRU-00278353-22</td>\n",
       "      <td>1/07/2022 0:08</td>\n",
       "      <td>11</td>\n",
       "      <td>Suba</td>\n",
       "      <td>88</td>\n",
       "      <td>A¤os</td>\n",
       "      <td>FEMENINO</td>\n",
       "      <td>Norte</td>\n",
       "      <td>Accidente Cerebro Vascular</td>\n",
       "      <td>ALTA</td>\n",
       "      <td>1/07/2022 3:40</td>\n",
       "    </tr>\n",
       "    <tr>\n",
       "      <th>1</th>\n",
       "      <td>CRU-00278360-22</td>\n",
       "      <td>1/07/2022 0:14</td>\n",
       "      <td>11</td>\n",
       "      <td>Suba</td>\n",
       "      <td>16</td>\n",
       "      <td>A¤os</td>\n",
       "      <td>MASCULINO</td>\n",
       "      <td>Norte</td>\n",
       "      <td>Herido</td>\n",
       "      <td>ALTA</td>\n",
       "      <td>1/07/2022 3:38</td>\n",
       "    </tr>\n",
       "    <tr>\n",
       "      <th>2</th>\n",
       "      <td>CRU-00278365-22</td>\n",
       "      <td>1/07/2022 0:21</td>\n",
       "      <td>18</td>\n",
       "      <td>Rafael Uribe Uribe</td>\n",
       "      <td>52</td>\n",
       "      <td>A¤os</td>\n",
       "      <td>FEMENINO</td>\n",
       "      <td>Centro Oriente</td>\n",
       "      <td>Evento Respiratorio</td>\n",
       "      <td>CRITICA</td>\n",
       "      <td>1/07/2022 4:08</td>\n",
       "    </tr>\n",
       "    <tr>\n",
       "      <th>3</th>\n",
       "      <td>CRU-00278370-22</td>\n",
       "      <td>1/07/2022 0:38</td>\n",
       "      <td>19</td>\n",
       "      <td>Ciudad Bol¡var</td>\n",
       "      <td>SIN_DATO</td>\n",
       "      <td>SIN_DATO</td>\n",
       "      <td>SIN_DATO</td>\n",
       "      <td>Privada</td>\n",
       "      <td>Herido</td>\n",
       "      <td>ALTA</td>\n",
       "      <td>0000-00-00 00:00:00</td>\n",
       "    </tr>\n",
       "    <tr>\n",
       "      <th>4</th>\n",
       "      <td>CRU-00278372-22</td>\n",
       "      <td>1/07/2022 0:53</td>\n",
       "      <td>1</td>\n",
       "      <td>Usaqun</td>\n",
       "      <td>33</td>\n",
       "      <td>A¤os</td>\n",
       "      <td>MASCULINO</td>\n",
       "      <td>Norte</td>\n",
       "      <td>Intento de Suicidio</td>\n",
       "      <td>ALTA</td>\n",
       "      <td>1/07/2022 3:25</td>\n",
       "    </tr>\n",
       "    <tr>\n",
       "      <th>5</th>\n",
       "      <td>CRU-00278376-22</td>\n",
       "      <td>1/07/2022 0:56</td>\n",
       "      <td>1</td>\n",
       "      <td>Usaqun</td>\n",
       "      <td>SIN_DATO</td>\n",
       "      <td>SIN_DATO</td>\n",
       "      <td>SIN_DATO</td>\n",
       "      <td>Norte</td>\n",
       "      <td>Evento Respiratorio</td>\n",
       "      <td>ALTA</td>\n",
       "      <td>0000-00-00 00:00:00</td>\n",
       "    </tr>\n",
       "    <tr>\n",
       "      <th>6</th>\n",
       "      <td>CRU-00278380-22</td>\n",
       "      <td>1/07/2022 1:09</td>\n",
       "      <td>17</td>\n",
       "      <td>La Candelaria</td>\n",
       "      <td>57</td>\n",
       "      <td>A¤os</td>\n",
       "      <td>FEMENINO</td>\n",
       "      <td>Norte</td>\n",
       "      <td>S¡ntomas Gastrointestinales</td>\n",
       "      <td>CRITICA</td>\n",
       "      <td>1/07/2022 4:17</td>\n",
       "    </tr>\n",
       "    <tr>\n",
       "      <th>7</th>\n",
       "      <td>CRU-00278379-22</td>\n",
       "      <td>1/07/2022 1:09</td>\n",
       "      <td>19</td>\n",
       "      <td>Ciudad Bol¡var</td>\n",
       "      <td>65</td>\n",
       "      <td>A¤os</td>\n",
       "      <td>FEMENINO</td>\n",
       "      <td>Sur</td>\n",
       "      <td>Enfermo</td>\n",
       "      <td>ALTA</td>\n",
       "      <td>1/07/2022 5:07</td>\n",
       "    </tr>\n",
       "    <tr>\n",
       "      <th>8</th>\n",
       "      <td>CRU-00278386-22</td>\n",
       "      <td>1/07/2022 1:11</td>\n",
       "      <td>15</td>\n",
       "      <td>Antonio Nari¤o</td>\n",
       "      <td>14</td>\n",
       "      <td>A¤os</td>\n",
       "      <td>MASCULINO</td>\n",
       "      <td>Sur</td>\n",
       "      <td>Convulsi¢n</td>\n",
       "      <td>ALTA</td>\n",
       "      <td>1/07/2022 2:37</td>\n",
       "    </tr>\n",
       "    <tr>\n",
       "      <th>9</th>\n",
       "      <td>CRU-00278383-22</td>\n",
       "      <td>1/07/2022 1:12</td>\n",
       "      <td>4</td>\n",
       "      <td>San Crist¢bal</td>\n",
       "      <td>83</td>\n",
       "      <td>A¤os</td>\n",
       "      <td>FEMENINO</td>\n",
       "      <td>Sur</td>\n",
       "      <td>Evento Respiratorio</td>\n",
       "      <td>ALTA</td>\n",
       "      <td>0000-00-00 00:00:00</td>\n",
       "    </tr>\n",
       "  </tbody>\n",
       "</table>\n",
       "</div>"
      ],
      "text/plain": [
       "  NUMERO_INCIDENTE FECHA_INICIO_DESPLAZAMIENTO_MOVIL  CODIGO_LOCALIDAD  \\\n",
       "0  CRU-00278353-22                    1/07/2022 0:08                11   \n",
       "1  CRU-00278360-22                    1/07/2022 0:14                11   \n",
       "2  CRU-00278365-22                    1/07/2022 0:21                18   \n",
       "3  CRU-00278370-22                    1/07/2022 0:38                19   \n",
       "4  CRU-00278372-22                    1/07/2022 0:53                 1   \n",
       "5  CRU-00278376-22                    1/07/2022 0:56                 1   \n",
       "6  CRU-00278380-22                    1/07/2022 1:09                17   \n",
       "7  CRU-00278379-22                    1/07/2022 1:09                19   \n",
       "8  CRU-00278386-22                    1/07/2022 1:11                15   \n",
       "9  CRU-00278383-22                    1/07/2022 1:12                 4   \n",
       "\n",
       "            LOCALIDAD      EDAD    UNIDAD     GENERO             RED  \\\n",
       "0                Suba        88      A¤os   FEMENINO           Norte   \n",
       "1                Suba        16      A¤os  MASCULINO           Norte   \n",
       "2  Rafael Uribe Uribe        52      A¤os   FEMENINO  Centro Oriente   \n",
       "3      Ciudad Bol¡var  SIN_DATO  SIN_DATO   SIN_DATO         Privada   \n",
       "4             Usaqun        33      A¤os  MASCULINO           Norte   \n",
       "5             Usaqun  SIN_DATO  SIN_DATO   SIN_DATO           Norte   \n",
       "6       La Candelaria        57      A¤os   FEMENINO           Norte   \n",
       "7      Ciudad Bol¡var        65      A¤os   FEMENINO             Sur   \n",
       "8      Antonio Nari¤o        14      A¤os  MASCULINO             Sur   \n",
       "9       San Crist¢bal        83      A¤os   FEMENINO             Sur   \n",
       "\n",
       "                TIPO_INCIDENTE PRIORIDAD            RECEPCION  \n",
       "0   Accidente Cerebro Vascular      ALTA       1/07/2022 3:40  \n",
       "1                       Herido      ALTA       1/07/2022 3:38  \n",
       "2          Evento Respiratorio   CRITICA       1/07/2022 4:08  \n",
       "3                       Herido      ALTA  0000-00-00 00:00:00  \n",
       "4          Intento de Suicidio      ALTA       1/07/2022 3:25  \n",
       "5          Evento Respiratorio      ALTA  0000-00-00 00:00:00  \n",
       "6  S¡ntomas Gastrointestinales   CRITICA       1/07/2022 4:17  \n",
       "7                      Enfermo      ALTA       1/07/2022 5:07  \n",
       "8                   Convulsi¢n      ALTA       1/07/2022 2:37  \n",
       "9          Evento Respiratorio      ALTA  0000-00-00 00:00:00  "
      ]
     },
     "execution_count": 5,
     "metadata": {},
     "output_type": "execute_result"
    }
   ],
   "source": [
    "df.head(10)"
   ]
  },
  {
   "cell_type": "code",
   "execution_count": 6,
   "metadata": {},
   "outputs": [
    {
     "data": {
      "text/plain": [
       "13055"
      ]
     },
     "execution_count": 6,
     "metadata": {},
     "output_type": "execute_result"
    }
   ],
   "source": [
    "df.shape[0]"
   ]
  },
  {
   "cell_type": "code",
   "execution_count": 7,
   "metadata": {},
   "outputs": [
    {
     "data": {
      "text/plain": [
       "tuple"
      ]
     },
     "execution_count": 7,
     "metadata": {},
     "output_type": "execute_result"
    }
   ],
   "source": [
    "type(df.shape)"
   ]
  },
  {
   "cell_type": "code",
   "execution_count": 8,
   "metadata": {},
   "outputs": [
    {
     "data": {
      "text/plain": [
       "NUMERO_INCIDENTE                     object\n",
       "FECHA_INICIO_DESPLAZAMIENTO_MOVIL    object\n",
       "CODIGO_LOCALIDAD                      int64\n",
       "LOCALIDAD                            object\n",
       "EDAD                                 object\n",
       "UNIDAD                               object\n",
       "GENERO                               object\n",
       "RED                                  object\n",
       "TIPO_INCIDENTE                       object\n",
       "PRIORIDAD                            object\n",
       "RECEPCION                            object\n",
       "dtype: object"
      ]
     },
     "execution_count": 8,
     "metadata": {},
     "output_type": "execute_result"
    }
   ],
   "source": [
    "df.dtypes"
   ]
  },
  {
   "cell_type": "code",
   "execution_count": 9,
   "metadata": {},
   "outputs": [
    {
     "data": {
      "text/plain": [
       "Herido                                    0.255228\n",
       "Inconsciente / Paro cardiorespiratorio    0.140942\n",
       "Evento Respiratorio                       0.130525\n",
       "Convulsi¢n                                0.090157\n",
       "Enfermo                                   0.063730\n",
       "Trastorno Mental                          0.058062\n",
       "Dolor Tor cico                            0.054079\n",
       "Intento de Suicidio                       0.051704\n",
       "Accidente Cerebro Vascular                0.029950\n",
       "S¡ntomas Gastrointestinales               0.028878\n",
       "Ca¡da de Altura                           0.023899\n",
       "Patolog¡a Ginecobsttrica                 0.021065\n",
       "Intoxicaci¢n                              0.019916\n",
       "Amenaza de Suicidio                       0.011337\n",
       "Acompa¤amiento Evento                     0.007813\n",
       "Violencia Sexual                          0.005285\n",
       "Maltrato                                  0.002911\n",
       "Electrocuci¢n / rescate                   0.001379\n",
       "Sangrado Vaginal                          0.001379\n",
       "Quemaduras                                0.000919\n",
       "Solicitud de Apoyo                        0.000843\n",
       "Name: TIPO_INCIDENTE, dtype: float64"
      ]
     },
     "execution_count": 9,
     "metadata": {},
     "output_type": "execute_result"
    }
   ],
   "source": [
    "df['TIPO_INCIDENTE'].value_counts(normalize=True)"
   ]
  },
  {
   "cell_type": "code",
   "execution_count": 10,
   "metadata": {},
   "outputs": [
    {
     "data": {
      "text/plain": [
       "SIN_DATO    0.475144\n",
       "23          0.011566\n",
       "22          0.010724\n",
       "30          0.010341\n",
       "27          0.010264\n",
       "              ...   \n",
       "7           0.001302\n",
       "98          0.001226\n",
       "9           0.001149\n",
       "8           0.001072\n",
       "97          0.000919\n",
       "Name: EDAD, Length: 100, dtype: float64"
      ]
     },
     "execution_count": 10,
     "metadata": {},
     "output_type": "execute_result"
    }
   ],
   "source": [
    "df['EDAD'].value_counts(normalize=True, dropna = False)"
   ]
  },
  {
   "cell_type": "code",
   "execution_count": 11,
   "metadata": {},
   "outputs": [
    {
     "data": {
      "text/plain": [
       "array(['88', '16', '52', 'SIN_DATO', '33', '57', '65', '14', '83', '35',\n",
       "       '19', '53', '56', '45', '2', '18', '34', '84', '80', '7', '64',\n",
       "       '41', '28', '23', '85', '92', '38', '11', '58', '70', '50', '27',\n",
       "       '67', '54', '87', '24', '90', '99', '49', '91', '21', '62', '59',\n",
       "       '26', '78', '30', '32', '51', '15', '79', '37', '60', '76', '22',\n",
       "       '47', '61', '82', '86', '77', '63', '39', '89', '36', '97', '40',\n",
       "       '75', '13', '25', '73', '69', '72', '68', '44', '31', '74', '81',\n",
       "       '43', '20', '66', '10', '48', '29', '8', '17', '94', '55', '1',\n",
       "       '4', '3', '9', '71', '46', '6', '95', '93', '98', '96', '42', '5',\n",
       "       '12'], dtype=object)"
      ]
     },
     "execution_count": 11,
     "metadata": {},
     "output_type": "execute_result"
    }
   ],
   "source": [
    "df[\"EDAD\"].unique()"
   ]
  },
  {
   "cell_type": "code",
   "execution_count": 12,
   "metadata": {},
   "outputs": [
    {
     "data": {
      "text/plain": [
       "100"
      ]
     },
     "execution_count": 12,
     "metadata": {},
     "output_type": "execute_result"
    }
   ],
   "source": [
    "len(df['EDAD'].unique())"
   ]
  },
  {
   "cell_type": "code",
   "execution_count": 13,
   "metadata": {},
   "outputs": [
    {
     "data": {
      "text/plain": [
       "21"
      ]
     },
     "execution_count": 13,
     "metadata": {},
     "output_type": "execute_result"
    }
   ],
   "source": [
    "len(df['TIPO_INCIDENTE'].unique())"
   ]
  },
  {
   "cell_type": "code",
   "execution_count": 14,
   "metadata": {},
   "outputs": [
    {
     "data": {
      "text/plain": [
       "Index(['UNIDAD', 'GENERO', 'RED'], dtype='object')"
      ]
     },
     "execution_count": 14,
     "metadata": {},
     "output_type": "execute_result"
    }
   ],
   "source": [
    "lista_columnas= df.columns\n",
    "lista_columnas[5:8]\n"
   ]
  },
  {
   "cell_type": "code",
   "execution_count": 15,
   "metadata": {},
   "outputs": [
    {
     "name": "stdout",
     "output_type": "stream",
     "text": [
      "columna NUMERO_INCIDENTE\n",
      "columna FECHA_INICIO_DESPLAZAMIENTO_MOVIL\n",
      "columna CODIGO_LOCALIDAD\n",
      "columna LOCALIDAD\n",
      "columna EDAD\n",
      "columna UNIDAD\n",
      "columna GENERO\n",
      "columna RED\n",
      "columna TIPO_INCIDENTE\n",
      "columna PRIORIDAD\n",
      "columna RECEPCION\n"
     ]
    }
   ],
   "source": [
    "for col in lista_columnas:\n",
    "    print('columna', col)"
   ]
  },
  {
   "cell_type": "code",
   "execution_count": 16,
   "metadata": {},
   "outputs": [
    {
     "name": "stdout",
     "output_type": "stream",
     "text": [
      "fuera del loop\n",
      "{'NUMERO_INCIDENTE': 12015, 'FECHA_INICIO_DESPLAZAMIENTO_MOVIL': 11078, 'CODIGO_LOCALIDAD': 20, 'LOCALIDAD': 20, 'EDAD': 100, 'UNIDAD': 6, 'GENERO': 3, 'RED': 5, 'TIPO_INCIDENTE': 21, 'PRIORIDAD': 4, 'RECEPCION': 4894}\n"
     ]
    }
   ],
   "source": [
    "lista_columnas = df.columns\n",
    "\n",
    "dict_reporte = dict()\n",
    "\n",
    "for col in lista_columnas:\n",
    "    lista_unicos = df[col].unique()\n",
    "    n_unicos = len(lista_unicos)\n",
    "    dict_reporte[col] = n_unicos\n",
    "    #print('columna', col, n_unicos)\n",
    "\n",
    "print('fuera del loop')\n",
    "print(dict_reporte)\n"
   ]
  },
  {
   "cell_type": "code",
   "execution_count": 17,
   "metadata": {},
   "outputs": [
    {
     "data": {
      "text/html": [
       "<div>\n",
       "<style scoped>\n",
       "    .dataframe tbody tr th:only-of-type {\n",
       "        vertical-align: middle;\n",
       "    }\n",
       "\n",
       "    .dataframe tbody tr th {\n",
       "        vertical-align: top;\n",
       "    }\n",
       "\n",
       "    .dataframe thead th {\n",
       "        text-align: right;\n",
       "    }\n",
       "</style>\n",
       "<table border=\"1\" class=\"dataframe\">\n",
       "  <thead>\n",
       "    <tr style=\"text-align: right;\">\n",
       "      <th></th>\n",
       "      <th>conteo</th>\n",
       "    </tr>\n",
       "  </thead>\n",
       "  <tbody>\n",
       "    <tr>\n",
       "      <th>NUMERO_INCIDENTE</th>\n",
       "      <td>12015</td>\n",
       "    </tr>\n",
       "    <tr>\n",
       "      <th>FECHA_INICIO_DESPLAZAMIENTO_MOVIL</th>\n",
       "      <td>11078</td>\n",
       "    </tr>\n",
       "    <tr>\n",
       "      <th>CODIGO_LOCALIDAD</th>\n",
       "      <td>20</td>\n",
       "    </tr>\n",
       "    <tr>\n",
       "      <th>LOCALIDAD</th>\n",
       "      <td>20</td>\n",
       "    </tr>\n",
       "    <tr>\n",
       "      <th>EDAD</th>\n",
       "      <td>100</td>\n",
       "    </tr>\n",
       "    <tr>\n",
       "      <th>UNIDAD</th>\n",
       "      <td>6</td>\n",
       "    </tr>\n",
       "    <tr>\n",
       "      <th>GENERO</th>\n",
       "      <td>3</td>\n",
       "    </tr>\n",
       "    <tr>\n",
       "      <th>RED</th>\n",
       "      <td>5</td>\n",
       "    </tr>\n",
       "    <tr>\n",
       "      <th>TIPO_INCIDENTE</th>\n",
       "      <td>21</td>\n",
       "    </tr>\n",
       "    <tr>\n",
       "      <th>PRIORIDAD</th>\n",
       "      <td>4</td>\n",
       "    </tr>\n",
       "    <tr>\n",
       "      <th>RECEPCION</th>\n",
       "      <td>4894</td>\n",
       "    </tr>\n",
       "  </tbody>\n",
       "</table>\n",
       "</div>"
      ],
      "text/plain": [
       "                                   conteo\n",
       "NUMERO_INCIDENTE                    12015\n",
       "FECHA_INICIO_DESPLAZAMIENTO_MOVIL   11078\n",
       "CODIGO_LOCALIDAD                       20\n",
       "LOCALIDAD                              20\n",
       "EDAD                                  100\n",
       "UNIDAD                                  6\n",
       "GENERO                                  3\n",
       "RED                                     5\n",
       "TIPO_INCIDENTE                         21\n",
       "PRIORIDAD                               4\n",
       "RECEPCION                            4894"
      ]
     },
     "execution_count": 17,
     "metadata": {},
     "output_type": "execute_result"
    }
   ],
   "source": [
    "df_reporte=pd.DataFrame.from_dict(dict_reporte, orient='index')\n",
    "df_reporte.rename({0: 'conteo'}, inplace = True,axis=1)\n",
    "df_reporte"
   ]
  },
  {
   "cell_type": "code",
   "execution_count": 18,
   "metadata": {},
   "outputs": [],
   "source": [
    "out_name = 'reporte' + filename\n",
    "out_name\n",
    "out_path = os.path.join(root_dir,'data','processed',out_name)\n",
    "df_reporte.to_csv(out_path)\n"
   ]
  }
 ],
 "metadata": {
  "kernelspec": {
   "display_name": "Python 3.9.12 ('base')",
   "language": "python",
   "name": "python3"
  },
  "language_info": {
   "codemirror_mode": {
    "name": "ipython",
    "version": 3
   },
   "file_extension": ".py",
   "mimetype": "text/x-python",
   "name": "python",
   "nbconvert_exporter": "python",
   "pygments_lexer": "ipython3",
   "version": "3.9.12"
  },
  "orig_nbformat": 4,
  "vscode": {
   "interpreter": {
    "hash": "98b921049c439807c081d6616d9731da5920d3b6edca6190edeae5a80cc907f5"
   }
  }
 },
 "nbformat": 4,
 "nbformat_minor": 2
}
